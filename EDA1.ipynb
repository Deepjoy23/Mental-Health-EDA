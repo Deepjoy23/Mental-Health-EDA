{
 "cells": [
  {
   "cell_type": "markdown",
   "id": "af279915-99db-48dc-a762-380f2fca1dc5",
   "metadata": {},
   "source": [
    "## Mental Health Data Analysis(EDA)"
   ]
  },
  {
   "cell_type": "code",
   "execution_count": 1,
   "id": "8a3910fe-6837-4dd9-b38f-85be05ff20aa",
   "metadata": {},
   "outputs": [],
   "source": [
    "# import numpy,pandas,matplotlib,seaborn library\n",
    "import numpy as np\n",
    "import pandas as pd\n",
    "import matplotlib.pyplot as plt\n",
    "import seaborn as sns"
   ]
  },
  {
   "cell_type": "code",
   "execution_count": 3,
   "id": "b7eae71c-a166-44cd-b957-a169f2ce7411",
   "metadata": {},
   "outputs": [
    {
     "data": {
      "text/html": [
       "<div>\n",
       "<style scoped>\n",
       "    .dataframe tbody tr th:only-of-type {\n",
       "        vertical-align: middle;\n",
       "    }\n",
       "\n",
       "    .dataframe tbody tr th {\n",
       "        vertical-align: top;\n",
       "    }\n",
       "\n",
       "    .dataframe thead th {\n",
       "        text-align: right;\n",
       "    }\n",
       "</style>\n",
       "<table border=\"1\" class=\"dataframe\">\n",
       "  <thead>\n",
       "    <tr style=\"text-align: right;\">\n",
       "      <th></th>\n",
       "      <th>Age</th>\n",
       "      <th>Gender</th>\n",
       "      <th>Occupation</th>\n",
       "      <th>Days_Indoors</th>\n",
       "      <th>Growing_Stress</th>\n",
       "      <th>Quarantine_Frustrations</th>\n",
       "      <th>Changes_Habits</th>\n",
       "      <th>Mental_Health_History</th>\n",
       "      <th>Weight_Change</th>\n",
       "      <th>Mood_Swings</th>\n",
       "      <th>Coping_Struggles</th>\n",
       "      <th>Work_Interest</th>\n",
       "      <th>Social_Weakness</th>\n",
       "    </tr>\n",
       "  </thead>\n",
       "  <tbody>\n",
       "    <tr>\n",
       "      <th>0</th>\n",
       "      <td>20-25</td>\n",
       "      <td>Female</td>\n",
       "      <td>Corporate</td>\n",
       "      <td>1-14 days</td>\n",
       "      <td>Yes</td>\n",
       "      <td>Yes</td>\n",
       "      <td>No</td>\n",
       "      <td>Yes</td>\n",
       "      <td>Yes</td>\n",
       "      <td>Medium</td>\n",
       "      <td>No</td>\n",
       "      <td>No</td>\n",
       "      <td>Yes</td>\n",
       "    </tr>\n",
       "    <tr>\n",
       "      <th>1</th>\n",
       "      <td>30-Above</td>\n",
       "      <td>Male</td>\n",
       "      <td>Others</td>\n",
       "      <td>31-60 days</td>\n",
       "      <td>Yes</td>\n",
       "      <td>Yes</td>\n",
       "      <td>Maybe</td>\n",
       "      <td>No</td>\n",
       "      <td>No</td>\n",
       "      <td>High</td>\n",
       "      <td>No</td>\n",
       "      <td>No</td>\n",
       "      <td>Yes</td>\n",
       "    </tr>\n",
       "    <tr>\n",
       "      <th>2</th>\n",
       "      <td>30-Above</td>\n",
       "      <td>Female</td>\n",
       "      <td>Student</td>\n",
       "      <td>Go out Every day</td>\n",
       "      <td>No</td>\n",
       "      <td>No</td>\n",
       "      <td>Yes</td>\n",
       "      <td>No</td>\n",
       "      <td>No</td>\n",
       "      <td>Medium</td>\n",
       "      <td>Yes</td>\n",
       "      <td>Maybe</td>\n",
       "      <td>No</td>\n",
       "    </tr>\n",
       "    <tr>\n",
       "      <th>3</th>\n",
       "      <td>25-30</td>\n",
       "      <td>Male</td>\n",
       "      <td>Others</td>\n",
       "      <td>1-14 days</td>\n",
       "      <td>Yes</td>\n",
       "      <td>No</td>\n",
       "      <td>Maybe</td>\n",
       "      <td>No</td>\n",
       "      <td>Maybe</td>\n",
       "      <td>Medium</td>\n",
       "      <td>No</td>\n",
       "      <td>Maybe</td>\n",
       "      <td>Yes</td>\n",
       "    </tr>\n",
       "    <tr>\n",
       "      <th>4</th>\n",
       "      <td>16-20</td>\n",
       "      <td>Female</td>\n",
       "      <td>Student</td>\n",
       "      <td>More than 2 months</td>\n",
       "      <td>Yes</td>\n",
       "      <td>Yes</td>\n",
       "      <td>Yes</td>\n",
       "      <td>No</td>\n",
       "      <td>Yes</td>\n",
       "      <td>Medium</td>\n",
       "      <td>Yes</td>\n",
       "      <td>Maybe</td>\n",
       "      <td>No</td>\n",
       "    </tr>\n",
       "    <tr>\n",
       "      <th>...</th>\n",
       "      <td>...</td>\n",
       "      <td>...</td>\n",
       "      <td>...</td>\n",
       "      <td>...</td>\n",
       "      <td>...</td>\n",
       "      <td>...</td>\n",
       "      <td>...</td>\n",
       "      <td>...</td>\n",
       "      <td>...</td>\n",
       "      <td>...</td>\n",
       "      <td>...</td>\n",
       "      <td>...</td>\n",
       "      <td>...</td>\n",
       "    </tr>\n",
       "    <tr>\n",
       "      <th>819</th>\n",
       "      <td>20-25</td>\n",
       "      <td>Male</td>\n",
       "      <td>Corporate</td>\n",
       "      <td>Go out Every day</td>\n",
       "      <td>No</td>\n",
       "      <td>Yes</td>\n",
       "      <td>No</td>\n",
       "      <td>Yes</td>\n",
       "      <td>Yes</td>\n",
       "      <td>Medium</td>\n",
       "      <td>No</td>\n",
       "      <td>Yes</td>\n",
       "      <td>Maybe</td>\n",
       "    </tr>\n",
       "    <tr>\n",
       "      <th>820</th>\n",
       "      <td>20-25</td>\n",
       "      <td>Male</td>\n",
       "      <td>Others</td>\n",
       "      <td>1-14 days</td>\n",
       "      <td>Yes</td>\n",
       "      <td>Yes</td>\n",
       "      <td>No</td>\n",
       "      <td>Yes</td>\n",
       "      <td>Maybe</td>\n",
       "      <td>Low</td>\n",
       "      <td>No</td>\n",
       "      <td>Maybe</td>\n",
       "      <td>Maybe</td>\n",
       "    </tr>\n",
       "    <tr>\n",
       "      <th>821</th>\n",
       "      <td>20-25</td>\n",
       "      <td>Male</td>\n",
       "      <td>Student</td>\n",
       "      <td>More than 2 months</td>\n",
       "      <td>Yes</td>\n",
       "      <td>Maybe</td>\n",
       "      <td>Maybe</td>\n",
       "      <td>No</td>\n",
       "      <td>Yes</td>\n",
       "      <td>High</td>\n",
       "      <td>Yes</td>\n",
       "      <td>Yes</td>\n",
       "      <td>Maybe</td>\n",
       "    </tr>\n",
       "    <tr>\n",
       "      <th>822</th>\n",
       "      <td>16-20</td>\n",
       "      <td>Male</td>\n",
       "      <td>Business</td>\n",
       "      <td>15-30 days</td>\n",
       "      <td>No</td>\n",
       "      <td>No</td>\n",
       "      <td>Maybe</td>\n",
       "      <td>No</td>\n",
       "      <td>Maybe</td>\n",
       "      <td>Low</td>\n",
       "      <td>Yes</td>\n",
       "      <td>No</td>\n",
       "      <td>Maybe</td>\n",
       "    </tr>\n",
       "    <tr>\n",
       "      <th>823</th>\n",
       "      <td>30-Above</td>\n",
       "      <td>Female</td>\n",
       "      <td>Others</td>\n",
       "      <td>15-30 days</td>\n",
       "      <td>No</td>\n",
       "      <td>No</td>\n",
       "      <td>No</td>\n",
       "      <td>No</td>\n",
       "      <td>Yes</td>\n",
       "      <td>Low</td>\n",
       "      <td>Yes</td>\n",
       "      <td>No</td>\n",
       "      <td>Maybe</td>\n",
       "    </tr>\n",
       "  </tbody>\n",
       "</table>\n",
       "<p>824 rows × 13 columns</p>\n",
       "</div>"
      ],
      "text/plain": [
       "          Age  Gender Occupation        Days_Indoors Growing_Stress  \\\n",
       "0       20-25  Female  Corporate           1-14 days            Yes   \n",
       "1    30-Above    Male     Others          31-60 days            Yes   \n",
       "2    30-Above  Female    Student    Go out Every day             No   \n",
       "3       25-30    Male     Others           1-14 days            Yes   \n",
       "4       16-20  Female    Student  More than 2 months            Yes   \n",
       "..        ...     ...        ...                 ...            ...   \n",
       "819     20-25    Male  Corporate    Go out Every day             No   \n",
       "820     20-25    Male     Others           1-14 days            Yes   \n",
       "821     20-25    Male    Student  More than 2 months            Yes   \n",
       "822     16-20    Male   Business          15-30 days             No   \n",
       "823  30-Above  Female     Others          15-30 days             No   \n",
       "\n",
       "    Quarantine_Frustrations Changes_Habits Mental_Health_History  \\\n",
       "0                       Yes             No                   Yes   \n",
       "1                       Yes          Maybe                    No   \n",
       "2                        No            Yes                    No   \n",
       "3                        No          Maybe                    No   \n",
       "4                       Yes            Yes                    No   \n",
       "..                      ...            ...                   ...   \n",
       "819                     Yes             No                   Yes   \n",
       "820                     Yes             No                   Yes   \n",
       "821                   Maybe          Maybe                    No   \n",
       "822                      No          Maybe                    No   \n",
       "823                      No             No                    No   \n",
       "\n",
       "    Weight_Change Mood_Swings Coping_Struggles Work_Interest Social_Weakness  \n",
       "0             Yes      Medium               No            No             Yes  \n",
       "1              No        High               No            No             Yes  \n",
       "2              No      Medium              Yes         Maybe              No  \n",
       "3           Maybe      Medium               No         Maybe             Yes  \n",
       "4             Yes      Medium              Yes         Maybe              No  \n",
       "..            ...         ...              ...           ...             ...  \n",
       "819           Yes      Medium               No           Yes           Maybe  \n",
       "820         Maybe         Low               No         Maybe           Maybe  \n",
       "821           Yes        High              Yes           Yes           Maybe  \n",
       "822         Maybe         Low              Yes            No           Maybe  \n",
       "823           Yes         Low              Yes            No           Maybe  \n",
       "\n",
       "[824 rows x 13 columns]"
      ]
     },
     "execution_count": 3,
     "metadata": {},
     "output_type": "execute_result"
    }
   ],
   "source": [
    "#csv type file access by pandas\n",
    "test_data=pd.read_csv(\"mental_health_finaldata_1.csv\")\n",
    "test_data"
   ]
  },
  {
   "cell_type": "markdown",
   "id": "ee52d4de-8517-49c7-9479-67733c01f611",
   "metadata": {},
   "source": [
    "### 1. Demographic Distribution:"
   ]
  },
  {
   "cell_type": "markdown",
   "id": "849a934f-3c6a-43aa-b2f8-df85aa58e0ad",
   "metadata": {},
   "source": [
    "#### Q 1.1. What is the distribution of age groups in the dataset?"
   ]
  },
  {
   "cell_type": "code",
   "execution_count": 4,
   "id": "9015bf55-ff4a-4177-a3c1-91f7c0de7aa9",
   "metadata": {},
   "outputs": [
    {
     "data": {
      "text/plain": [
       "Age\n",
       "30-Above    222\n",
       "16-20       211\n",
       "25-30       205\n",
       "20-25       186\n",
       "Name: count, dtype: int64"
      ]
     },
     "execution_count": 4,
     "metadata": {},
     "output_type": "execute_result"
    }
   ],
   "source": [
    "# distribution of age groups in the dataset\n",
    "test_data[\"Age\"].value_counts()"
   ]
  },
  {
   "cell_type": "code",
   "execution_count": 7,
   "id": "7ce99fbf-2d33-4d44-88fa-2c88fc7b5a2e",
   "metadata": {},
   "outputs": [
    {
     "data": {
      "image/png": "[encoded data removed]",
      "text/plain": [
       "<Figure size 640x480 with 1 Axes>"
      ]
     },
     "metadata": {},
     "output_type": "display_data"
    }
   ],
   "source": [
    "# countplot graph\n",
    "sns.countplot(data=test_data,x=\"Age\",palette=\"husl\",hue=\"Age\",legend=False)\n",
    "plt.title(\"Distribution of age groups in the dataset\")\n",
    "plt.show()"
   ]
  },
  {
   "cell_type": "markdown",
   "id": "638d4fad-6871-4828-9709-61b4a5815a5b",
   "metadata": {},
   "source": [
    "**Observations**:\n",
    "\n",
    "- We have **5 age groups** with in the data set => **16-20** , **20-25** , **25-30** , **30-Above** .\n",
    "- From **count plot diagram** we conclude that **30-Above** has maximum number of **Quarantine People** .\n",
    "- From **count plot diagram** we conclude that **20-25** has minimum number of **Quarantine People** ."
   ]
  },
  {
   "cell_type": "markdown",
   "id": "aa3f4e62-04eb-40bf-8b8c-15192355a2ac",
   "metadata": {},
   "source": [
    "#### Q 1.2. What is the gender distribution in the dataset?"
   ]
  },
  {
   "cell_type": "code",
   "execution_count": 8,
   "id": "80a613e1-474c-4c2d-b34b-6d279536c633",
   "metadata": {},
   "outputs": [
    {
     "data": {
      "text/html": [
       "<div>\n",
       "<style scoped>\n",
       "    .dataframe tbody tr th:only-of-type {\n",
       "        vertical-align: middle;\n",
       "    }\n",
       "\n",
       "    .dataframe tbody tr th {\n",
       "        vertical-align: top;\n",
       "    }\n",
       "\n",
       "    .dataframe thead th {\n",
       "        text-align: right;\n",
       "    }\n",
       "</style>\n",
       "<table border=\"1\" class=\"dataframe\">\n",
       "  <thead>\n",
       "    <tr style=\"text-align: right;\">\n",
       "      <th></th>\n",
       "      <th>Gender</th>\n",
       "      <th>count</th>\n",
       "    </tr>\n",
       "  </thead>\n",
       "  <tbody>\n",
       "    <tr>\n",
       "      <th>0</th>\n",
       "      <td>Female</td>\n",
       "      <td>434</td>\n",
       "    </tr>\n",
       "    <tr>\n",
       "      <th>1</th>\n",
       "      <td>Male</td>\n",
       "      <td>390</td>\n",
       "    </tr>\n",
       "  </tbody>\n",
       "</table>\n",
       "</div>"
      ],
      "text/plain": [
       "   Gender  count\n",
       "0  Female    434\n",
       "1    Male    390"
      ]
     },
     "execution_count": 8,
     "metadata": {},
     "output_type": "execute_result"
    }
   ],
   "source": [
    "# gender distribution in the dataset\n",
    "test_data[\"Gender\"].value_counts().reset_index()"
   ]
  },
  {
   "cell_type": "code",
   "execution_count": 9,
   "id": "bdb5c500-31ee-4737-acb7-ae27aa7880bb",
   "metadata": {},
   "outputs": [
    {
     "data": {
      "image/png": "[encoded data removed]",
      "text/plain": [
       "<Figure size 700x300 with 1 Axes>"
      ]
     },
     "metadata": {},
     "output_type": "display_data"
    }
   ],
   "source": [
    "# countplot graph\n",
    "plt.figure(figsize=(7,3))\n",
    "sns.countplot(data=test_data,x=\"Gender\",palette=\"husl\",hue=\"Gender\",legend=False)\n",
    "plt.title(\"Gender distribution in the dataset\")\n",
    "plt.show()"
   ]
  },
  {
   "cell_type": "markdown",
   "id": "ed016b57-1340-4ff8-9590-daf5ab3a6f55",
   "metadata": {},
   "source": [
    "**Observations**:\n",
    "\n",
    "- We have **2 Gender Group** with in the data set => **Male** , **Female** .\n",
    "- From **count plot diagram** we conclude that **Female** has maximum number of **Quarantine People** (**434**) .\n",
    "- From **count plot diagram** we conclude that **Male** has minimum number of **Quarantine People** (**390**) ."
   ]
  },
  {
   "cell_type": "markdown",
   "id": "ce67a2f0-d1e9-40ec-bfb5-9c83a9b3a041",
   "metadata": {},
   "source": [
    "#### Q 1.3. What are the most common occupations in the dataset?"
   ]
  },
  {
   "cell_type": "code",
   "execution_count": 14,
   "id": "35ff03de-7a8a-4017-8a0b-8597f3b60292",
   "metadata": {},
   "outputs": [
    {
     "data": {
      "text/html": [
       "<div>\n",
       "<style scoped>\n",
       "    .dataframe tbody tr th:only-of-type {\n",
       "        vertical-align: middle;\n",
       "    }\n",
       "\n",
       "    .dataframe tbody tr th {\n",
       "        vertical-align: top;\n",
       "    }\n",
       "\n",
       "    .dataframe thead th {\n",
       "        text-align: right;\n",
       "    }\n",
       "</style>\n",
       "<table border=\"1\" class=\"dataframe\">\n",
       "  <thead>\n",
       "    <tr style=\"text-align: right;\">\n",
       "      <th></th>\n",
       "      <th>Occupation</th>\n",
       "      <th>count</th>\n",
       "    </tr>\n",
       "  </thead>\n",
       "  <tbody>\n",
       "    <tr>\n",
       "      <th>0</th>\n",
       "      <td>Housewife</td>\n",
       "      <td>185</td>\n",
       "    </tr>\n",
       "    <tr>\n",
       "      <th>1</th>\n",
       "      <td>Student</td>\n",
       "      <td>180</td>\n",
       "    </tr>\n",
       "    <tr>\n",
       "      <th>2</th>\n",
       "      <td>Corporate</td>\n",
       "      <td>159</td>\n",
       "    </tr>\n",
       "    <tr>\n",
       "      <th>3</th>\n",
       "      <td>Others</td>\n",
       "      <td>155</td>\n",
       "    </tr>\n",
       "    <tr>\n",
       "      <th>4</th>\n",
       "      <td>Business</td>\n",
       "      <td>145</td>\n",
       "    </tr>\n",
       "  </tbody>\n",
       "</table>\n",
       "</div>"
      ],
      "text/plain": [
       "  Occupation  count\n",
       "0  Housewife    185\n",
       "1    Student    180\n",
       "2  Corporate    159\n",
       "3     Others    155\n",
       "4   Business    145"
      ]
     },
     "execution_count": 14,
     "metadata": {},
     "output_type": "execute_result"
    }
   ],
   "source": [
    "# Count of different Occupations in the Data Set\n",
    "test_data[\"Occupation\"].value_counts().reset_index()"
   ]
  },
  {
   "cell_type": "code",
   "execution_count": 12,
   "id": "79ba4f91-cace-450a-885a-466d1a885671",
   "metadata": {},
   "outputs": [
    {
     "data": {
      "text/html": [
       "<div>\n",
       "<style scoped>\n",
       "    .dataframe tbody tr th:only-of-type {\n",
       "        vertical-align: middle;\n",
       "    }\n",
       "\n",
       "    .dataframe tbody tr th {\n",
       "        vertical-align: top;\n",
       "    }\n",
       "\n",
       "    .dataframe thead th {\n",
       "        text-align: right;\n",
       "    }\n",
       "</style>\n",
       "<table border=\"1\" class=\"dataframe\">\n",
       "  <thead>\n",
       "    <tr style=\"text-align: right;\">\n",
       "      <th></th>\n",
       "      <th>index</th>\n",
       "      <th>Occupation</th>\n",
       "    </tr>\n",
       "  </thead>\n",
       "  <tbody>\n",
       "    <tr>\n",
       "      <th>0</th>\n",
       "      <td>0</td>\n",
       "      <td>Housewife</td>\n",
       "    </tr>\n",
       "  </tbody>\n",
       "</table>\n",
       "</div>"
      ],
      "text/plain": [
       "   index Occupation\n",
       "0      0  Housewife"
      ]
     },
     "execution_count": 12,
     "metadata": {},
     "output_type": "execute_result"
    }
   ],
   "source": [
    "# most commomn Occupation in the Data Set\n",
    "occupation_count=test_data[\"Occupation\"].mode().reset_index()\n",
    "occupation_count"
   ]
  },
  {
   "cell_type": "markdown",
   "id": "e440fc40-1d98-4bcc-9a02-2a02cc79f68d",
   "metadata": {},
   "source": [
    "**Observations**:\n",
    "\n",
    "- We have **5 Occupation Groups** with in the data set => **Housewife** , **Student** , **Corporate** , **Others** , **Business** .\n",
    "- From **DataFrame Analysis** we conclude that **Housewife** has maximum number of **Quarantine People** (**185**) ."
   ]
  },
  {
   "cell_type": "raw",
   "id": "d67a659a-6fbf-4f40-bab7-247e3c33c4b4",
   "metadata": {},
   "source": [
    "Quarantine and Lifestyle Changes:\n",
    "How many days, on average, did people spend indoors?\n",
    "What percentage of respondents reported growing stress due to quarantine?\n",
    "How many respondents reported changes in their habits during quarantine?\n",
    "Mental Health and Mood:"
   ]
  },
  {
   "cell_type": "markdown",
   "id": "b7662c79-1d47-4b98-ab5e-0bae11b9b6bb",
   "metadata": {},
   "source": [
    "### 2. Quarantine and Lifestyle Changes:"
   ]
  },
  {
   "cell_type": "markdown",
   "id": "9a633c28-55c3-4552-ac76-79aa518bd1a9",
   "metadata": {},
   "source": [
    "#### Q 2.1. How many days, on average, did people spend indoors?"
   ]
  },
  {
   "cell_type": "code",
   "execution_count": 16,
   "id": "77371cde-631b-42db-922a-dcdd4b236e6c",
   "metadata": {},
   "outputs": [
    {
     "data": {
      "text/html": [
       "<div>\n",
       "<style scoped>\n",
       "    .dataframe tbody tr th:only-of-type {\n",
       "        vertical-align: middle;\n",
       "    }\n",
       "\n",
       "    .dataframe tbody tr th {\n",
       "        vertical-align: top;\n",
       "    }\n",
       "\n",
       "    .dataframe thead th {\n",
       "        text-align: right;\n",
       "    }\n",
       "</style>\n",
       "<table border=\"1\" class=\"dataframe\">\n",
       "  <thead>\n",
       "    <tr style=\"text-align: right;\">\n",
       "      <th></th>\n",
       "      <th>Days_Indoors</th>\n",
       "      <th>count</th>\n",
       "    </tr>\n",
       "  </thead>\n",
       "  <tbody>\n",
       "    <tr>\n",
       "      <th>0</th>\n",
       "      <td>31-60 days</td>\n",
       "      <td>171</td>\n",
       "    </tr>\n",
       "    <tr>\n",
       "      <th>1</th>\n",
       "      <td>1-14 days</td>\n",
       "      <td>170</td>\n",
       "    </tr>\n",
       "    <tr>\n",
       "      <th>2</th>\n",
       "      <td>Go out Every day</td>\n",
       "      <td>168</td>\n",
       "    </tr>\n",
       "    <tr>\n",
       "      <th>3</th>\n",
       "      <td>More than 2 months</td>\n",
       "      <td>160</td>\n",
       "    </tr>\n",
       "    <tr>\n",
       "      <th>4</th>\n",
       "      <td>15-30 days</td>\n",
       "      <td>155</td>\n",
       "    </tr>\n",
       "  </tbody>\n",
       "</table>\n",
       "</div>"
      ],
      "text/plain": [
       "         Days_Indoors  count\n",
       "0          31-60 days    171\n",
       "1           1-14 days    170\n",
       "2    Go out Every day    168\n",
       "3  More than 2 months    160\n",
       "4          15-30 days    155"
      ]
     },
     "execution_count": 16,
     "metadata": {},
     "output_type": "execute_result"
    }
   ],
   "source": [
    "# \"Days_Indoors\" different category value count of quarantine people\n",
    "test_data[\"Days_Indoors\"].value_counts().reset_index()"
   ]
  },
  {
   "cell_type": "code",
   "execution_count": 18,
   "id": "aa04594c-fb8c-4d8f-9183-c171ad44ea75",
   "metadata": {},
   "outputs": [
    {
     "data": {
      "text/html": [
       "<div>\n",
       "<style scoped>\n",
       "    .dataframe tbody tr th:only-of-type {\n",
       "        vertical-align: middle;\n",
       "    }\n",
       "\n",
       "    .dataframe tbody tr th {\n",
       "        vertical-align: top;\n",
       "    }\n",
       "\n",
       "    .dataframe thead th {\n",
       "        text-align: right;\n",
       "    }\n",
       "</style>\n",
       "<table border=\"1\" class=\"dataframe\">\n",
       "  <thead>\n",
       "    <tr style=\"text-align: right;\">\n",
       "      <th></th>\n",
       "      <th>Age</th>\n",
       "      <th>Gender</th>\n",
       "      <th>Occupation</th>\n",
       "      <th>Days_Indoors</th>\n",
       "      <th>Growing_Stress</th>\n",
       "      <th>Quarantine_Frustrations</th>\n",
       "      <th>Changes_Habits</th>\n",
       "      <th>Mental_Health_History</th>\n",
       "      <th>Weight_Change</th>\n",
       "      <th>Mood_Swings</th>\n",
       "      <th>Coping_Struggles</th>\n",
       "      <th>Work_Interest</th>\n",
       "      <th>Social_Weakness</th>\n",
       "      <th>Days_indoor_numeric</th>\n",
       "    </tr>\n",
       "  </thead>\n",
       "  <tbody>\n",
       "    <tr>\n",
       "      <th>0</th>\n",
       "      <td>20-25</td>\n",
       "      <td>Female</td>\n",
       "      <td>Corporate</td>\n",
       "      <td>1-14 days</td>\n",
       "      <td>Yes</td>\n",
       "      <td>Yes</td>\n",
       "      <td>No</td>\n",
       "      <td>Yes</td>\n",
       "      <td>Yes</td>\n",
       "      <td>Medium</td>\n",
       "      <td>No</td>\n",
       "      <td>No</td>\n",
       "      <td>Yes</td>\n",
       "      <td>7</td>\n",
       "    </tr>\n",
       "    <tr>\n",
       "      <th>1</th>\n",
       "      <td>30-Above</td>\n",
       "      <td>Male</td>\n",
       "      <td>Others</td>\n",
       "      <td>31-60 days</td>\n",
       "      <td>Yes</td>\n",
       "      <td>Yes</td>\n",
       "      <td>Maybe</td>\n",
       "      <td>No</td>\n",
       "      <td>No</td>\n",
       "      <td>High</td>\n",
       "      <td>No</td>\n",
       "      <td>No</td>\n",
       "      <td>Yes</td>\n",
       "      <td>45</td>\n",
       "    </tr>\n",
       "    <tr>\n",
       "      <th>2</th>\n",
       "      <td>30-Above</td>\n",
       "      <td>Female</td>\n",
       "      <td>Student</td>\n",
       "      <td>Go out Every day</td>\n",
       "      <td>No</td>\n",
       "      <td>No</td>\n",
       "      <td>Yes</td>\n",
       "      <td>No</td>\n",
       "      <td>No</td>\n",
       "      <td>Medium</td>\n",
       "      <td>Yes</td>\n",
       "      <td>Maybe</td>\n",
       "      <td>No</td>\n",
       "      <td>0</td>\n",
       "    </tr>\n",
       "    <tr>\n",
       "      <th>3</th>\n",
       "      <td>25-30</td>\n",
       "      <td>Male</td>\n",
       "      <td>Others</td>\n",
       "      <td>1-14 days</td>\n",
       "      <td>Yes</td>\n",
       "      <td>No</td>\n",
       "      <td>Maybe</td>\n",
       "      <td>No</td>\n",
       "      <td>Maybe</td>\n",
       "      <td>Medium</td>\n",
       "      <td>No</td>\n",
       "      <td>Maybe</td>\n",
       "      <td>Yes</td>\n",
       "      <td>7</td>\n",
       "    </tr>\n",
       "    <tr>\n",
       "      <th>4</th>\n",
       "      <td>16-20</td>\n",
       "      <td>Female</td>\n",
       "      <td>Student</td>\n",
       "      <td>More than 2 months</td>\n",
       "      <td>Yes</td>\n",
       "      <td>Yes</td>\n",
       "      <td>Yes</td>\n",
       "      <td>No</td>\n",
       "      <td>Yes</td>\n",
       "      <td>Medium</td>\n",
       "      <td>Yes</td>\n",
       "      <td>Maybe</td>\n",
       "      <td>No</td>\n",
       "      <td>75</td>\n",
       "    </tr>\n",
       "  </tbody>\n",
       "</table>\n",
       "</div>"
      ],
      "text/plain": [
       "        Age  Gender Occupation        Days_Indoors Growing_Stress  \\\n",
       "0     20-25  Female  Corporate           1-14 days            Yes   \n",
       "1  30-Above    Male     Others          31-60 days            Yes   \n",
       "2  30-Above  Female    Student    Go out Every day             No   \n",
       "3     25-30    Male     Others           1-14 days            Yes   \n",
       "4     16-20  Female    Student  More than 2 months            Yes   \n",
       "\n",
       "  Quarantine_Frustrations Changes_Habits Mental_Health_History Weight_Change  \\\n",
       "0                     Yes             No                   Yes           Yes   \n",
       "1                     Yes          Maybe                    No            No   \n",
       "2                      No            Yes                    No            No   \n",
       "3                      No          Maybe                    No         Maybe   \n",
       "4                     Yes            Yes                    No           Yes   \n",
       "\n",
       "  Mood_Swings Coping_Struggles Work_Interest Social_Weakness  \\\n",
       "0      Medium               No            No             Yes   \n",
       "1        High               No            No             Yes   \n",
       "2      Medium              Yes         Maybe              No   \n",
       "3      Medium               No         Maybe             Yes   \n",
       "4      Medium              Yes         Maybe              No   \n",
       "\n",
       "   Days_indoor_numeric  \n",
       "0                    7  \n",
       "1                   45  \n",
       "2                    0  \n",
       "3                    7  \n",
       "4                   75  "
      ]
     },
     "execution_count": 18,
     "metadata": {},
     "output_type": "execute_result"
    }
   ],
   "source": [
    "# Adding a new column(Days_indoor_numeric) in the Data Set with a logic\n",
    "def process_indoors_day(x):\n",
    "    if x == \"31-60 days\":\n",
    "        return 45\n",
    "    elif x == \"1-14 days\":\n",
    "        return 7\n",
    "    elif x == \"15-30 days\":\n",
    "        return 22\n",
    "    elif x == \"Go out Every day\":\n",
    "        return 0\n",
    "    else:\n",
    "        return 75\n",
    "    \n",
    "test_data[\"Days_indoor_numeric\"] =  test_data[\"Days_Indoors\"].apply(process_indoors_day) \n",
    "test_data.head()"
   ]
  },
  {
   "cell_type": "code",
   "execution_count": 22,
   "id": "068302fb-02e2-4f17-a607-799833fe7d92",
   "metadata": {},
   "outputs": [
    {
     "data": {
      "text/plain": [
       "29.0"
      ]
     },
     "execution_count": 22,
     "metadata": {},
     "output_type": "execute_result"
    }
   ],
   "source": [
    "# Average days spend by the people indoors\n",
    "test_data[\"Days_indoor_numeric\"].mean().round()"
   ]
  },
  {
   "cell_type": "markdown",
   "id": "bef1c542-d795-4f86-b2bb-38b00042ca43",
   "metadata": {},
   "source": [
    "**Observations**:\n",
    "\n",
    "- We have **Days_Indoors** with in the data set => **Go out Every day** , **1-14 days** , **15-30 days** , **31-60 days** , **More than 2 months** .\n",
    "- Create a logic=> **Go out Every day = 0 day** , **1-14 days = 7 days** , **15-30 days = 22 days** , **31-60 days = 45 days** , **More than 2 months = 75 days**\n",
    "- From **DataFrame Analysis** we conclude that **Average days spend** by the people **indoors** is **29** ."
   ]
  },
  {
   "cell_type": "markdown",
   "id": "9b01f4b8-cde6-4b5d-adaa-9f12fecd1adc",
   "metadata": {},
   "source": [
    "#### Q 2.2. What percentage of respondents reported growing stress due to quarantine?"
   ]
  },
  {
   "cell_type": "code",
   "execution_count": 28,
   "id": "7a45a232-89dd-4eb1-844f-1ee45ed59a19",
   "metadata": {},
   "outputs": [
    {
     "data": {
      "text/html": [
       "<div>\n",
       "<style scoped>\n",
       "    .dataframe tbody tr th:only-of-type {\n",
       "        vertical-align: middle;\n",
       "    }\n",
       "\n",
       "    .dataframe tbody tr th {\n",
       "        vertical-align: top;\n",
       "    }\n",
       "\n",
       "    .dataframe thead th {\n",
       "        text-align: right;\n",
       "    }\n",
       "</style>\n",
       "<table border=\"1\" class=\"dataframe\">\n",
       "  <thead>\n",
       "    <tr style=\"text-align: right;\">\n",
       "      <th></th>\n",
       "      <th>Growing_Stress</th>\n",
       "      <th>count</th>\n",
       "    </tr>\n",
       "  </thead>\n",
       "  <tbody>\n",
       "    <tr>\n",
       "      <th>0</th>\n",
       "      <td>Yes</td>\n",
       "      <td>301</td>\n",
       "    </tr>\n",
       "    <tr>\n",
       "      <th>1</th>\n",
       "      <td>Maybe</td>\n",
       "      <td>267</td>\n",
       "    </tr>\n",
       "    <tr>\n",
       "      <th>2</th>\n",
       "      <td>No</td>\n",
       "      <td>256</td>\n",
       "    </tr>\n",
       "  </tbody>\n",
       "</table>\n",
       "</div>"
      ],
      "text/plain": [
       "  Growing_Stress  count\n",
       "0            Yes    301\n",
       "1          Maybe    267\n",
       "2             No    256"
      ]
     },
     "execution_count": 28,
     "metadata": {},
     "output_type": "execute_result"
    }
   ],
   "source": [
    "test_data[\"Growing_Stress\"].value_counts().reset_index()"
   ]
  },
  {
   "cell_type": "code",
   "execution_count": 24,
   "id": "ab058afa-b8f2-42d2-9f39-a48b6aad076f",
   "metadata": {},
   "outputs": [
    {
     "data": {
      "text/plain": [
       "(301, 14)"
      ]
     },
     "execution_count": 24,
     "metadata": {},
     "output_type": "execute_result"
    }
   ],
   "source": [
    "test_data.loc[test_data[\"Growing_Stress\"]==\"Yes\"].shape # shape of \"Growing_Stress\"==\"Yes\" "
   ]
  },
  {
   "cell_type": "code",
   "execution_count": 25,
   "id": "2af7a5ea-bcbf-4c23-bdd3-112cbcc62ee1",
   "metadata": {},
   "outputs": [
    {
     "data": {
      "text/plain": [
       "(824, 14)"
      ]
     },
     "execution_count": 25,
     "metadata": {},
     "output_type": "execute_result"
    }
   ],
   "source": [
    "test_data.shape # shape of total dataset"
   ]
  },
  {
   "cell_type": "code",
   "execution_count": 39,
   "id": "13080fef-65b0-4d85-87bc-b4f928389d24",
   "metadata": {},
   "outputs": [
    {
     "data": {
      "text/plain": [
       "36.53"
      ]
     },
     "execution_count": 39,
     "metadata": {},
     "output_type": "execute_result"
    }
   ],
   "source": [
    "# percentage of respondents reported growing stress due to quarantine\n",
    "yes_count = test_data.loc[test_data[\"Growing_Stress\"] == \"Yes\"].shape[0]\n",
    "total = test_data.shape[0]\n",
    "percentage = (yes_count / total) * 100\n",
    "round(percentage, 2)"
   ]
  },
  {
   "cell_type": "markdown",
   "id": "72703428-53d0-4e8f-af40-21f8aabbcc32",
   "metadata": {},
   "source": [
    "**Observations**:\n",
    "\n",
    "- We have **3 Growing_Stress Groups** with in the data set => **Yes** , **Maybe** , **No** .\n",
    "- Here we consider only **Growing_Stress = Yes** .\n",
    "- From **DataFrame Analysis** we conclude that **percentage** of respondents reported **growing stress** due to **quarantine** is **36.53** ."
   ]
  },
  {
   "cell_type": "code",
   "execution_count": 30,
   "id": "ce853040-ad7c-42f0-a0b7-ef12c5528412",
   "metadata": {},
   "outputs": [
    {
     "data": {
      "text/html": [
       "<div>\n",
       "<style scoped>\n",
       "    .dataframe tbody tr th:only-of-type {\n",
       "        vertical-align: middle;\n",
       "    }\n",
       "\n",
       "    .dataframe tbody tr th {\n",
       "        vertical-align: top;\n",
       "    }\n",
       "\n",
       "    .dataframe thead th {\n",
       "        text-align: right;\n",
       "    }\n",
       "</style>\n",
       "<table border=\"1\" class=\"dataframe\">\n",
       "  <thead>\n",
       "    <tr style=\"text-align: right;\">\n",
       "      <th></th>\n",
       "      <th>Growing_Stress</th>\n",
       "      <th>count</th>\n",
       "    </tr>\n",
       "  </thead>\n",
       "  <tbody>\n",
       "    <tr>\n",
       "      <th>0</th>\n",
       "      <td>Yes</td>\n",
       "      <td>301</td>\n",
       "    </tr>\n",
       "    <tr>\n",
       "      <th>1</th>\n",
       "      <td>Maybe</td>\n",
       "      <td>267</td>\n",
       "    </tr>\n",
       "    <tr>\n",
       "      <th>2</th>\n",
       "      <td>No</td>\n",
       "      <td>256</td>\n",
       "    </tr>\n",
       "  </tbody>\n",
       "</table>\n",
       "</div>"
      ],
      "text/plain": [
       "  Growing_Stress  count\n",
       "0            Yes    301\n",
       "1          Maybe    267\n",
       "2             No    256"
      ]
     },
     "execution_count": 30,
     "metadata": {},
     "output_type": "execute_result"
    }
   ],
   "source": [
    "# \"Growing_Stress\" count of different Category\n",
    "growing_stress_count=test_data[\"Growing_Stress\"].value_counts().reset_index() \n",
    "growing_stress_count"
   ]
  },
  {
   "cell_type": "code",
   "execution_count": 38,
   "id": "b46a4f17-491b-4307-afa7-a2e6001de19c",
   "metadata": {},
   "outputs": [
    {
     "data": {
      "text/plain": [
       "52.73"
      ]
     },
     "execution_count": 38,
     "metadata": {},
     "output_type": "execute_result"
    }
   ],
   "source": [
    "# percentage of respondents reported growing stress due to quarantine[With a logic]\n",
    "growing_stress=(growing_stress_count.loc[0,\"count\"]*1)+(growing_stress_count.loc[1,\"count\"]*0.5)\n",
    "total_count = test_data.shape[0]\n",
    "growing_stress_percentage = ((growing_stress/total_count)*100).round(2)\n",
    "growing_stress_percentage"
   ]
  },
  {
   "cell_type": "markdown",
   "id": "fee0e345-8fef-4798-81fe-428c878b5548",
   "metadata": {},
   "source": [
    "**Observations**:\n",
    "\n",
    "- We have **3 Growing_Stress Groups** with in the data set => **Yes** , **Maybe** , **No** .\n",
    "- A logic implimentation => **Yes = 1** , **Maybe = 0.5** , **No = 0** .\n",
    "- From **DataFrame Analysis** we conclude that **percentage** of respondents reported **growing stress** due to **quarantine** is **52.73** ."
   ]
  },
  {
   "cell_type": "markdown",
   "id": "3c82e904-87d5-4696-92b7-906e0d237206",
   "metadata": {},
   "source": [
    "Observations:\n",
    "\n",
    "We have 3 Growing_Stress Groups with in the data set => Yes , Maybe , No .\n",
    "A logic implimentation => Yes = 1 , Maybe = 0.5 , No = 0 .\n",
    "From DataFrame Analysis we conclude that percentage of respondents reported growing stress due to quarantine is 52.73 ."
   ]
  },
  {
   "cell_type": "code",
   "execution_count": null,
   "id": "31efde08-2b71-434f-b43c-5abb86b0e0c2",
   "metadata": {},
   "outputs": [],
   "source": []
  }
 ],
 "metadata": {
  "kernelspec": {
   "display_name": "Python 3 (ipykernel)",
   "language": "python",
   "name": "python3"
  },
  "language_info": {
   "codemirror_mode": {
    "name": "ipython",
    "version": 3
   },
   "file_extension": ".py",
   "mimetype": "text/x-python",
   "name": "python",
   "nbconvert_exporter": "python",
   "pygments_lexer": "ipython3",
   "version": "3.10.10"
  }
 },
 "nbformat": 4,
 "nbformat_minor": 5
}
